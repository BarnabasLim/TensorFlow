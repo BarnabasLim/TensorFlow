{
  "nbformat": 4,
  "nbformat_minor": 0,
  "metadata": {
    "colab": {
      "name": "TimeSeries_Prediction_Notes.ipynb",
      "provenance": [],
      "collapsed_sections": [],
      "authorship_tag": "ABX9TyMq5YFznNKf7TRAn9M9SAAJ",
      "include_colab_link": true
    },
    "kernelspec": {
      "name": "python3",
      "display_name": "Python 3"
    },
    "language_info": {
      "name": "python"
    }
  },
  "cells": [
    {
      "cell_type": "markdown",
      "metadata": {
        "id": "view-in-github",
        "colab_type": "text"
      },
      "source": [
        "<a href=\"https://colab.research.google.com/github/BarnabasLim/Tensorflow/blob/main/TimeSeries_Prediction_Notes.ipynb\" target=\"_parent\"><img src=\"https://colab.research.google.com/assets/colab-badge.svg\" alt=\"Open In Colab\"/></a>"
      ]
    },
    {
      "cell_type": "code",
      "metadata": {
        "id": "AOaqDH4zmgmy"
      },
      "source": [
        ""
      ],
      "execution_count": null,
      "outputs": []
    },
    {
      "cell_type": "markdown",
      "metadata": {
        "id": "BVuoH0GQm9EL"
      },
      "source": [
        "#__Time Series Prediction__\n",
        "\n",
        "\n",
        "*   Univariate Time Series (Price Vs Time)\n",
        "  - Time Series that have a single value at each time step\n",
        "\n",
        "\n",
        "\n",
        "*   Multivariate Time Series (Birth rate and Death Rate Vs time)\n",
        "  - Time series that have multiple values at each time step.\n",
        "  - Helps in understanding impact of related Data.\t\n",
        "\n",
        "\t\n",
        "##__Machine learning applied to time series.__\n",
        "\t\n",
        "\n",
        "*   Forecast/ Prediction\n",
        "*   Imputation\n",
        "*   Anomaly Detection\n",
        "*   Pattern Recognition\n",
        "\t\n",
        "##__Building blocks / Patterns in time series__\n",
        "*  __Stationary time series__ are time series that has behavior that does not change over time. If time series is stationary, the more data you have the better.\n",
        "$$TimeSeries=Trend+Seasonality+Autocorrelation+Noise$$\n",
        "<table>\n",
        "<tr>\n",
        "<th>Patterns</th>\n",
        "<th>Descriptions</th>\n",
        "</tr>\n",
        "<tr>\n",
        "<td>Trends </td>\n",
        "<td>Specific general direction of overall time series</td>\n",
        "</tr>\n",
        "<tr>\n",
        "<td>Seasonality</td>\n",
        "<td> Repeating patterns at regular intervals</td>\n",
        "</tr>\n",
        "<tr>\n",
        "<td>Autocorrelation</td>\n",
        "<td>- Time Series like this are often described as having memory as steps are dependent on previous ones<br>\n",
        "    - Correlates with a delayed copy of itself.<br>\n",
        "    - (e.g., past data at timestamp t-1 helps to predict data at t\n",
        "  $$v(t)=0.99v(t-1)$$</td>\n",
        "</tr>\n",
        "<tr>\n",
        "<td>Noise</td>\n",
        "<td>Non-Predictable Random Values</td>\n",
        "</tr>\n",
        "<tr>\n",
        "<td>Innovations</td>\n",
        "<td>Unpredictable Spikes</td>\n",
        "</tr>\n",
        "</table>\n",
        "\n",
        "\n",
        " \n",
        "*  __Non-Stationary time series__ are series such as stock price that may break trend due to a big financial crisis or a big scandal or a disruptive technological breakthrough. Non-Stationary time series would mean that the optimal time window for training would vary.\n",
        "\n",
        "#Generating Sequences using Python\n",
        "\n"
      ]
    }
  ]
}